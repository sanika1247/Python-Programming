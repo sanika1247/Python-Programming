{
  "nbformat": 4,
  "nbformat_minor": 0,
  "metadata": {
    "colab": {
      "provenance": [],
      "authorship_tag": "ABX9TyPlxPopojopFsn9Kc3W9Bmf",
      "include_colab_link": true
    },
    "kernelspec": {
      "name": "python3",
      "display_name": "Python 3"
    },
    "language_info": {
      "name": "python"
    }
  },
  "cells": [
    {
      "cell_type": "markdown",
      "metadata": {
        "id": "view-in-github",
        "colab_type": "text"
      },
      "source": [
        "<a href=\"https://colab.research.google.com/github/sanika1247/Python-Programming/blob/main/functions.ipynb\" target=\"_parent\"><img src=\"https://colab.research.google.com/assets/colab-badge.svg\" alt=\"Open In Colab\"/></a>"
      ]
    },
    {
      "cell_type": "markdown",
      "source": [
        "\n"
      ],
      "metadata": {
        "id": "Oxs0wLPdi0dC"
      }
    },
    {
      "cell_type": "code",
      "source": [
        "print(\"enter 1 if you want to print area of square\")\n",
        "\n",
        "print(\"enter 2 if you want to print area of traingle\")\n",
        "\n",
        "print(\"enter 3 if you want to print area of circle\")\n",
        "\n",
        "print(\"enter 4 if you want to print area of reactangle\")\n",
        "\n",
        "a=int(input(\"enter your choice\"))\n",
        "\n",
        "if a==1:\n",
        "\n",
        "b=int(input(\"enter your side \"))\n",
        "\n",
        "def squares(x):\n",
        "\n",
        "c=x**x\n",
        "\n",
        "return a\n",
        "\n",
        "print(\"the area of square is\",squares(b))\n",
        "\n",
        "elif a==2:\n",
        "\n",
        "b=int(input(\"enter your breadth\"))\n",
        "\n",
        "h=int(input(\"enter your height\"))\n",
        "\n",
        "def areatriangle(b,h):\n",
        "\n",
        "area=0.5*b*h\n",
        "\n",
        "return area\n",
        "\n",
        "print(\"the area of triangle is \",areatriangle(b,h))\n",
        "\n",
        "elif a==3:\n",
        "\n",
        "r=int(input(\"enter your radius\"))\n",
        "\n",
        "def circlearea():\n",
        "\n",
        "x=2*3.14*r*r\n",
        "\n",
        "return x\n",
        "\n",
        "circlearea()\n",
        "\n",
        "print(\"the area of circle is\",circlearea())\n",
        "\n",
        "elif a==4:\n",
        "\n",
        "a=int(input(\"enter your breadth\"))\n",
        "\n",
        "b=int(input(\"enter your length\"))\n",
        "\n",
        "def rectanglearea(a,b):\n",
        "\n",
        "x=a*b\n",
        "\n",
        "return x\n",
        "\n",
        "print(\"the area of rectangle is\",rectanglearea(a,b))\n",
        "\n",
        "else:\n",
        "\n",
        "print(\"please enter the correct choice\")\n",
        "\n"
      ],
      "metadata": {
        "id": "DFZehW1iWUSm"
      },
      "execution_count": null,
      "outputs": []
    }
  ]
}