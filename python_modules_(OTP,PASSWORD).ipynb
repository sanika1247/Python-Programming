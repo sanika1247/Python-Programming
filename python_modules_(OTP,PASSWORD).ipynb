{
  "nbformat": 4,
  "nbformat_minor": 0,
  "metadata": {
    "colab": {
      "provenance": [],
      "authorship_tag": "ABX9TyOV2umqdRq0mpPK6K1egy2b",
      "include_colab_link": true
    },
    "kernelspec": {
      "name": "python3",
      "display_name": "Python 3"
    },
    "language_info": {
      "name": "python"
    }
  },
  "cells": [
    {
      "cell_type": "markdown",
      "metadata": {
        "id": "view-in-github",
        "colab_type": "text"
      },
      "source": [
        "<a href=\"https://colab.research.google.com/github/sanika1247/Python-Programming/blob/main/python_modules_(OTP%2CPASSWORD).ipynb\" target=\"_parent\"><img src=\"https://colab.research.google.com/assets/colab-badge.svg\" alt=\"Open In Colab\"/></a>"
      ]
    },
    {
      "cell_type": "code",
      "execution_count": null,
      "metadata": {
        "id": "oOBuLtjeXG7S"
      },
      "outputs": [],
      "source": [
        "import random as rd\n",
        "import math\n",
        "print(rd.randrange(1000,9999))\n",
        "\n",
        "\n",
        "import random\n",
        "lst1=[\"a\",\"b\",\"c\",\"d\",\"e\",\"f\",\"g\",\"h\",\"i\",\"j\",\"k\",\"l\",\"m\",\"n\",\"o\",\"p\",\"q\",\"r\",\"s\",\"t\",\"u\",\"v\",\"w\",\"x\",\"y\",\"z\"]\n",
        "lst2=[\"A\",\"B\",\"C\",\"D\",\"E\",\"F\",\"G\",\"H\",\"I\",\"J\",\"k\",\"L\",\"M\",\"N\",\"O\",\"P\",\"Q\",\"R\",\"S\",\"T\",\"U\",\"V\",\"W\",\"X\",\"Y\",\"Z\"]\n",
        "lst3=[\"!\",\"@\",\"#\",\"$\",\"%\",\"^\",\"&\",\"*\",\" \"]\n",
        "lst4=[\"0\",\"1\",\"2\",\"3\",\"4\",\"5\",\"6\",\"7\",\"8\",\"9\"]\n",
        "print(\"your random password is \",random.choice(lst1)+random.choice(lst2)+random.choice(lst3)+random.choice(lst4)+random.choice(lst1)+random.choice(lst2))\n"
      ]
    }
  ]
}